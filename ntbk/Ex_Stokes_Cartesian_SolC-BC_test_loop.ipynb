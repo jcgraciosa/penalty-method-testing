{
 "cells": [
  {
   "cell_type": "markdown",
   "id": "d240d689",
   "metadata": {
    "lines_to_next_cell": 0,
    "magic_args": "[markdown]"
   },
   "source": [
    "# Stokes Benchmark SolCx"
   ]
  },
  {
   "cell_type": "code",
   "execution_count": 1,
   "id": "4757017d",
   "metadata": {
    "lines_to_next_cell": 2
   },
   "outputs": [],
   "source": [
    "# options = PETSc.Options()\n",
    "# options[\"help\"] = None"
   ]
  },
  {
   "cell_type": "code",
   "execution_count": 3,
   "id": "7937dff7",
   "metadata": {},
   "outputs": [],
   "source": [
    "import petsc4py\n",
    "from petsc4py import PETSc\n",
    "import pickle"
   ]
  },
  {
   "cell_type": "code",
   "execution_count": 31,
   "id": "fd3f0f6d",
   "metadata": {},
   "outputs": [],
   "source": [
    "import underworld3 as uw\n",
    "import os\n",
    "from underworld3.systems import Stokes\n",
    "from underworld3 import function\n",
    "import numpy as np\n",
    "\n",
    "import sympy\n",
    "from sympy import Piecewise\n",
    "\n",
    "import matplotlib.pyplot as plt"
   ]
  },
  {
   "cell_type": "code",
   "execution_count": 6,
   "id": "d6ccf1ca",
   "metadata": {},
   "outputs": [],
   "source": [
    "def plotFig(mesh, v, p, v_proj):\n",
    "    import numpy as np\n",
    "    import pyvista as pv\n",
    "    import vtk\n",
    "\n",
    "    pv.global_theme.background = \"white\"\n",
    "    pv.global_theme.window_size = [750, 1200]\n",
    "    pv.global_theme.antialiasing = True\n",
    "    pv.global_theme.jupyter_backend = \"panel\"\n",
    "    pv.global_theme.smooth_shading = True\n",
    "\n",
    "    mesh.vtk(\"tmp_mesh.vtk\")\n",
    "    pvmesh = pv.read(\"tmp_mesh.vtk\")\n",
    "\n",
    "    # pvmesh.point_data[\"V\"] = uw.function.evaluate(v.sym, mesh.data)\n",
    "#     # with mesh.access(v):\n",
    "#     for i in mesh.dim:\n",
    "#         v_projection = uw.systems.Projection(mesh, v_proj)\n",
    "#         v_projection.uw_function = v.sym[i]\n",
    "#         v_projection.smoothing = 1.0e-3\n",
    "#         v_projection.solve(_force_setup=True)\n",
    "#         with mesh.access(v_proj):\n",
    "#             pvmesh.point_data[f\"V{i}\"] = v_proj\n",
    "            \n",
    "#     vel = \n",
    "    \n",
    "#         pvmesh.point_data[\"V\"] = v_proj.dot(v_proj)\n",
    "\n",
    "    arrow_loc = np.zeros((mesh._centroids.shape[0], 3))\n",
    "    arrow_loc[:, 0:2] = mesh._centroids[...]\n",
    "\n",
    "    arrow_length = np.zeros((mesh._centroids.shape[0], 3))\n",
    "    arrow_length[:, 0] = uw.function.evaluate(v.sym[0], mesh._centroids)\n",
    "    arrow_length[:, 1] = uw.function.evaluate(v.sym[1], mesh._centroids)\n",
    "\n",
    "    pl = pv.Plotter(window_size=[1000, 1000])\n",
    "    pl.add_axes()\n",
    "\n",
    "    pl.add_mesh(\n",
    "        pvmesh,\n",
    "        cmap=\"coolwarm\",\n",
    "        edge_color=\"Black\",\n",
    "        show_edges=True,\n",
    "        # scalars=\"V\",\n",
    "        use_transparency=False,\n",
    "        opacity=1.0,\n",
    "    )\n",
    "\n",
    "    pl.add_arrows(arrow_loc, arrow_length, mag=3)\n",
    "\n",
    "    pl.show(cpos=\"xy\")"
   ]
  },
  {
   "cell_type": "code",
   "execution_count": 7,
   "id": "0761f43e",
   "metadata": {},
   "outputs": [],
   "source": [
    "def solCx_model(n_els, penalty, weak_BC=True, viscosity=[1e6,1], qdeg = 3, hwNum = None):\n",
    "    \n",
    "    # mesh = uw.meshing.UnstructuredSimplexBox(\n",
    "    #                                         minCoords=(0.0, 0.0), maxCoords=(1.0, 1.0), cellSize=1 / n_els, qdegree=2\n",
    "    #                                         )\n",
    "    \n",
    "    mesh = uw.meshing.StructuredQuadBox(\n",
    "                                        minCoords=(0.0, 0.0), \n",
    "                                        maxCoords=(1.0, 1.0),\n",
    "                                        elementRes=(n_els, n_els), \n",
    "                                        #qdegree = qdeg\n",
    "                                        )\n",
    "    \n",
    "    \n",
    "    v = uw.discretisation.MeshVariable(\"U\", mesh, mesh.dim, degree=2)\n",
    "    v_proj = uw.discretisation.MeshVariable(\"v\", mesh, 1, degree=2)\n",
    "    p = uw.discretisation.MeshVariable(\"P\", mesh, 1, degree=1)\n",
    "    \n",
    "    \n",
    "    x, y = mesh.CoordinateSystem.X\n",
    "    \n",
    "    stokes = uw.systems.Stokes(mesh, velocityField=v, pressureField=p)\n",
    "    stokes.constitutive_model = uw.systems.constitutive_models.ViscousFlowModel(mesh.dim)\n",
    "    \n",
    "    stokes.bodyforce = sympy.Matrix(\n",
    "                                    [0, sympy.cos(sympy.pi * x) * sympy.sin(sympy.pi * y)]\n",
    "                                    )\n",
    "    if weak_BC == True:\n",
    "        # res = 1 / n_els\n",
    "        # hw = 1000 / res\n",
    "        # sdev = np.sqrt(1/(2*hw)) # using original method\n",
    "        \n",
    "        hw = hwNum\n",
    "        print(hw)\n",
    "        sdev = hw/2.355\n",
    "        print(sdev)\n",
    "        # surface_fn = sympy.exp(-((y - 1.0) ** 2) * hw)\n",
    "        # base_fn = sympy.exp(-(y**2) * hw)\n",
    "        # right_fn = sympy.exp(-((x - 1.0) ** 2) * hw)\n",
    "        # left_fn = sympy.exp(-(x**2) * hw)\n",
    "        surface_fn = sympy.exp(-((y - 1.0) ** 2)/(2*sdev**2))\n",
    "        base_fn = sympy.exp(-(y**2)/(2*sdev**2))\n",
    "        right_fn = sympy.exp(-((x - 1.0) ** 2)/(2*sdev**2))\n",
    "        left_fn = sympy.exp(-(x**2)/(2*sdev**2))\n",
    "        \n",
    "        # penalty = 100*(1/mesh.get_min_radius()**2)\n",
    "        \n",
    "        # penalty = 1.0e6 #325 * (1/(mesh.get_min_radius()**2))\n",
    "\n",
    "        stokes.bodyforce[0] -= penalty * v.sym[0] * (left_fn + right_fn)\n",
    "        stokes.bodyforce[1] -= penalty * v.sym[1] * (surface_fn + base_fn)\n",
    "        \n",
    "    else:\n",
    "        stokes.add_dirichlet_bc(\n",
    "            (0.0, 0.0), [\"Top\", \"Bottom\"], 1)  # top/bottom: components, function, markers\n",
    "        stokes.add_dirichlet_bc(\n",
    "            (0.0, 0.0), [\"Left\", \"Right\"], 0)  # left/right: components, function, markers\n",
    "        \n",
    "\n",
    "    x_c = 0.5\n",
    "    \n",
    "    viscosity_fn = sympy.Piecewise(\n",
    "        (viscosity[0], x > x_c),\n",
    "        (viscosity[1], True)               )\n",
    "    \n",
    "    \n",
    "    stokes.constitutive_model.Parameters.viscosity = viscosity_fn\n",
    "    stokes.saddle_preconditioner = 1 / stokes.constitutive_model.Parameters.viscosity\n",
    "\n",
    "\n",
    "    stokes.solve(zero_init_guess=True)\n",
    "    \n",
    "    # if uw.mpi.size == 1:\n",
    "    #     plotFig(mesh=mesh, v=v, p=p, v_proj=v_proj)\n",
    "        \n",
    "    volume_int = uw.maths.Integral(mesh, 1.0)\n",
    "    volume = volume_int.evaluate()\n",
    "    v_dot_v_int = uw.maths.Integral(mesh, stokes.u.fn.dot(stokes.u.fn))\n",
    "        \n",
    "    def vrms():\n",
    "        import math\n",
    "\n",
    "        v_dot_v = v_dot_v_int.evaluate()\n",
    "        return math.sqrt(v_dot_v / volume)\n",
    "    \n",
    "    return vrms()\n",
    "        "
   ]
  },
  {
   "cell_type": "code",
   "execution_count": null,
   "id": "a46c640c",
   "metadata": {},
   "outputs": [],
   "source": [
    "# sdev = np.sqrt(1/(2*hw))"
   ]
  },
  {
   "cell_type": "code",
   "execution_count": 39,
   "id": "85a7cbc9",
   "metadata": {},
   "outputs": [],
   "source": [
    "# n_els = 16\n",
    "# res = 1 / n_els\n",
    "# hw = 1000 / res\n",
    "# print(hw)\n",
    "\n",
    "# y = np.arange(0, 1 + res, res)\n",
    "# out_og = np.exp(-((y - 1.0) ** 2) * hw)\n",
    "\n",
    "# sdev = np.sqrt(1/(2*hw))\n",
    "# print(\"fwhm: \", sdev*2.355)\n",
    "# out2 = np.exp(-((y - 1.0) ** 2)/(2*sdev**2))\n",
    "\n",
    "# import matplotlib.pyplot as plt\n",
    "# fig, ax = plt.subplots(dpi = 100)\n",
    "# #ax.plot(y, out, \"-o\")\n",
    "# ax.plot(y, out_og, \"o\")\n",
    "# ax.plot(y, out2, \"-\")"
   ]
  },
  {
   "cell_type": "code",
   "execution_count": 32,
   "id": "fb0f87af",
   "metadata": {},
   "outputs": [
    {
     "name": "stdout",
     "output_type": "stream",
     "text": [
      "0.005590169943749474\n"
     ]
    },
    {
     "data": {
      "text/plain": [
       "[<matplotlib.lines.Line2D at 0x288249810>]"
      ]
     },
     "execution_count": 32,
     "metadata": {},
     "output_type": "execute_result"
    },
    {
     "data": {
      "image/png": "[encoded data removed]",
      "text/plain": [
       "<Figure size 640x480 with 1 Axes>"
      ]
     },
     "metadata": {},
     "output_type": "display_data"
    }
   ],
   "source": [
    "# # original formulation\n",
    "\n",
    "# n_els = 16\n",
    "# res = 1 / n_els\n",
    "\n",
    "# # set separately\n",
    "# hw = 0.006\n",
    "# sdev = hw/2.355\n",
    "# y = np.arange(0, 1 + res, res)\n",
    "# out = np.exp(-((y - 1.0) ** 2)/(2*sdev**2))\n",
    "\n",
    "\n",
    "# hw_og = 1000 / res\n",
    "# print(np.sqrt(1/(2*hw_og)))\n",
    "# out_og = np.exp(-((y - 1.0) ** 2) * hw_og)\n",
    "\n",
    "# import matplotlib.pyplot as plt\n",
    "# fig, ax = plt.subplots(dpi = 100)\n",
    "# #ax.plot(y, out, \"-o\")\n",
    "# ax.plot(y, 1e10*out_og, \"-o\")"
   ]
  },
  {
   "cell_type": "code",
   "execution_count": 33,
   "id": "1ce7e20c",
   "metadata": {},
   "outputs": [
    {
     "data": {
      "text/plain": [
       "array([2.90e+10, 2.91e+10, 2.92e+10, 2.93e+10, 2.94e+10, 2.95e+10])"
      ]
     },
     "execution_count": 33,
     "metadata": {},
     "output_type": "execute_result"
    }
   ],
   "source": [
    "\n",
    "# penalties = np.arange(2.9e10, 2.95e10+1e6, 0.01e10)\n",
    "# penalties"
   ]
  },
  {
   "cell_type": "code",
   "execution_count": 23,
   "id": "c5f308a0",
   "metadata": {},
   "outputs": [
    {
     "ename": "NameError",
     "evalue": "name 'os' is not defined",
     "output_type": "error",
     "traceback": [
      "\u001b[0;31m---------------------------------------------------------------------------\u001b[0m",
      "\u001b[0;31mNameError\u001b[0m                                 Traceback (most recent call last)",
      "Cell \u001b[0;32mIn[23], line 6\u001b[0m\n\u001b[1;32m      3\u001b[0m outdir \u001b[39m=\u001b[39m \u001b[39m\"\u001b[39m\u001b[39m/Users/jgra0019/Documents/codes/uw3-dev/penalty-method-testing/out\u001b[39m\u001b[39m\"\u001b[39m\n\u001b[1;32m      5\u001b[0m \u001b[39mif\u001b[39;00m uw\u001b[39m.\u001b[39mmpi\u001b[39m.\u001b[39mrank \u001b[39m==\u001b[39m \u001b[39m0\u001b[39m:\n\u001b[0;32m----> 6\u001b[0m     \u001b[39mif\u001b[39;00m \u001b[39mnot\u001b[39;00m os\u001b[39m.\u001b[39mpath\u001b[39m.\u001b[39mexists(outdir):\n\u001b[1;32m      7\u001b[0m         os\u001b[39m.\u001b[39mmakedirs(outdir)\n",
      "\u001b[0;31mNameError\u001b[0m: name 'os' is not defined"
     ]
    }
   ],
   "source": [
    "qdeg = 2\n",
    "ptf = 1e6 # 1e6, 1e7, 1e8, 1e9, 1e10\n",
    "outdir = \"/Users/jgra0019/Documents/codes/uw3-dev/penalty-method-testing/out\"\n",
    "\n",
    "if uw.mpi.rank == 0:\n",
    "    if not os.path.exists(outdir):\n",
    "        os.makedirs(outdir)"
   ]
  },
  {
   "cell_type": "code",
   "execution_count": 9,
   "id": "f8d39db7",
   "metadata": {},
   "outputs": [
    {
     "name": "stdout",
     "output_type": "stream",
     "text": [
      "  0 SNES Function norm 0.0172385 \n",
      "  1 SNES Function norm 6.54932e-06 \n",
      "  2 SNES Function norm 1.16845e-09 \n",
      "Nonlinear Stokes_1_ solve converged due to CONVERGED_FNORM_RELATIVE iterations 2\n",
      "0.001\n",
      "0.0004246284501061571\n",
      "  0 SNES Function norm 0.0172385 \n",
      "Nonlinear Stokes_2_ solve did not converge due to DIVERGED_LINEAR_SOLVE iterations 0\n",
      "res: 16, fwhm: 0.001, relative error: -100.0\n",
      "0.003\n",
      "0.0012738853503184713\n",
      "  0 SNES Function norm 0.0172385 \n",
      "  1 SNES Function norm 0.000274972 \n",
      "  2 SNES Function norm 1.8022e-05 \n",
      "  3 SNES Function norm 4.54842e-07 \n",
      "Nonlinear Stokes_3_ solve converged due to CONVERGED_FNORM_RELATIVE iterations 3\n",
      "res: 16, fwhm: 0.003, relative error: 3142778.524517511\n",
      "0.005\n",
      "0.0021231422505307855\n",
      "  0 SNES Function norm 0.0172385 \n",
      "  1 SNES Function norm 0.000978205 \n",
      "  2 SNES Function norm 3.031e-10 \n",
      "Nonlinear Stokes_4_ solve converged due to CONVERGED_FNORM_RELATIVE iterations 2\n",
      "res: 16, fwhm: 0.005, relative error: 312.6114222989424\n",
      "0.007\n",
      "0.0029723991507431\n",
      "  0 SNES Function norm 0.0172385 \n",
      "  1 SNES Function norm 0.000239041 \n",
      "  2 SNES Function norm 6.60574e-09 \n",
      "Nonlinear Stokes_5_ solve converged due to CONVERGED_FNORM_RELATIVE iterations 2\n",
      "res: 16, fwhm: 0.007, relative error: 18.11194831224882\n",
      "0.009\n",
      "0.0038216560509554136\n",
      "  0 SNES Function norm 0.0172385 \n",
      "  1 SNES Function norm 2.87645e-05 \n",
      "  2 SNES Function norm 7.76409e-09 \n",
      "Nonlinear Stokes_6_ solve converged due to CONVERGED_FNORM_RELATIVE iterations 2\n",
      "res: 16, fwhm: 0.009, relative error: 9.57898306639011\n",
      "0.01\n",
      "0.004246284501061571\n",
      "  0 SNES Function norm 0.0172385 \n",
      "  1 SNES Function norm 2.31164e-05 \n",
      "  2 SNES Function norm 1.98401e-09 \n",
      "Nonlinear Stokes_7_ solve converged due to CONVERGED_FNORM_RELATIVE iterations 2\n",
      "res: 16, fwhm: 0.01, relative error: 8.627991948288148\n",
      "0.03\n",
      "0.012738853503184712\n",
      "  0 SNES Function norm 0.0172385 \n",
      "  1 SNES Function norm 8.65327e-05 \n",
      "  2 SNES Function norm 1.00534e-08 \n",
      "Nonlinear Stokes_8_ solve converged due to CONVERGED_FNORM_RELATIVE iterations 2\n",
      "res: 16, fwhm: 0.03, relative error: -23.36088994340185\n",
      "0.05\n",
      "0.021231422505307858\n",
      "  0 SNES Function norm 0.0172385 \n",
      "  1 SNES Function norm 0.000125907 \n",
      "  2 SNES Function norm 1.223e-10 \n",
      "Nonlinear Stokes_9_ solve converged due to CONVERGED_FNORM_RELATIVE iterations 2\n",
      "res: 16, fwhm: 0.05, relative error: -45.26791628095452\n",
      "0.07\n",
      "0.029723991507431\n",
      "  0 SNES Function norm 0.0172385 \n",
      "  1 SNES Function norm 4.37354e-05 \n",
      "  2 SNES Function norm 9.751e-10 \n",
      "Nonlinear Stokes_10_ solve converged due to CONVERGED_FNORM_RELATIVE iterations 2\n",
      "res: 16, fwhm: 0.07, relative error: -52.80987453998283\n",
      "0.09\n",
      "0.03821656050955414\n",
      "  0 SNES Function norm 0.0172385 \n",
      "  1 SNES Function norm 0.000106828 \n",
      "  2 SNES Function norm 6.34296e-07 \n",
      "Nonlinear Stokes_11_ solve converged due to CONVERGED_FNORM_RELATIVE iterations 2\n",
      "res: 16, fwhm: 0.09, relative error: -63.98037760614024\n",
      "0.1\n",
      "0.042462845010615716\n",
      "  0 SNES Function norm 0.0172385 \n",
      "  1 SNES Function norm 3.50142e-05 \n",
      "  2 SNES Function norm 4.10034e-07 \n",
      "Nonlinear Stokes_12_ solve converged due to CONVERGED_FNORM_RELATIVE iterations 2\n",
      "res: 16, fwhm: 0.1, relative error: -67.87030002652467\n",
      "  0 SNES Function norm 0.00865169 \n",
      "  1 SNES Function norm 0.000144319 \n",
      "  2 SNES Function norm 5.73284e-08 \n",
      "Nonlinear Stokes_13_ solve converged due to CONVERGED_FNORM_RELATIVE iterations 2\n",
      "0.001\n",
      "0.0004246284501061571\n",
      "  0 SNES Function norm 0.00865169 \n",
      "Nonlinear Stokes_14_ solve did not converge due to DIVERGED_LINEAR_SOLVE iterations 0\n",
      "res: 32, fwhm: 0.001, relative error: -100.0\n",
      "0.003\n",
      "0.0012738853503184713\n",
      "  0 SNES Function norm 0.00865169 \n",
      "  1 SNES Function norm 0.000366732 \n",
      "  2 SNES Function norm 3.066e-11 \n",
      "Nonlinear Stokes_15_ solve converged due to CONVERGED_FNORM_RELATIVE iterations 2\n",
      "res: 32, fwhm: 0.003, relative error: 106.82377934017661\n",
      "0.005\n",
      "0.0021231422505307855\n",
      "  0 SNES Function norm 0.00865169 \n",
      "  1 SNES Function norm 0.000217232 \n",
      "  2 SNES Function norm < 1.e-11\n",
      "Nonlinear Stokes_16_ solve converged due to CONVERGED_FNORM_RELATIVE iterations 2\n",
      "res: 32, fwhm: 0.005, relative error: 7.95293977757726\n",
      "0.007\n",
      "0.0029723991507431\n",
      "  0 SNES Function norm 0.00865169 \n",
      "  1 SNES Function norm 0.00023481 \n",
      "  2 SNES Function norm 1.664e-11 \n",
      "Nonlinear Stokes_17_ solve converged due to CONVERGED_FNORM_RELATIVE iterations 2\n",
      "res: 32, fwhm: 0.007, relative error: 5.39793660686155\n",
      "0.009\n",
      "0.0038216560509554136\n",
      "  0 SNES Function norm 0.00865169 \n",
      "  1 SNES Function norm 0.000236117 \n",
      "  2 SNES Function norm 1.822e-11 \n",
      "Nonlinear Stokes_18_ solve converged due to CONVERGED_FNORM_RELATIVE iterations 2\n",
      "res: 32, fwhm: 0.009, relative error: 4.775160313398173\n",
      "0.01\n",
      "0.004246284501061571\n",
      "  0 SNES Function norm 0.00865169 \n",
      "  1 SNES Function norm 0.000207335 \n",
      "  2 SNES Function norm 2.435e-11 \n",
      "Nonlinear Stokes_19_ solve converged due to CONVERGED_FNORM_RELATIVE iterations 2\n",
      "res: 32, fwhm: 0.01, relative error: 4.483542019264383\n",
      "0.03\n",
      "0.012738853503184712\n",
      "  0 SNES Function norm 0.00865169 \n",
      "  1 SNES Function norm 7.58373e-05 \n",
      "  2 SNES Function norm 3.143e-11 \n",
      "Nonlinear Stokes_20_ solve converged due to CONVERGED_FNORM_RELATIVE iterations 2\n",
      "res: 32, fwhm: 0.03, relative error: -22.758952931807734\n",
      "0.05\n",
      "0.021231422505307858\n",
      "  0 SNES Function norm 0.00865169 \n",
      "  1 SNES Function norm 0.000131263 \n",
      "  2 SNES Function norm 1.641e-10 \n",
      "Nonlinear Stokes_21_ solve converged due to CONVERGED_FNORM_RELATIVE iterations 2\n",
      "res: 32, fwhm: 0.05, relative error: -43.54074747410264\n",
      "0.07\n",
      "0.029723991507431\n",
      "  0 SNES Function norm 0.00865169 \n",
      "  1 SNES Function norm 0.00014569 \n",
      "  2 SNES Function norm 1.093e-11 \n",
      "Nonlinear Stokes_22_ solve converged due to CONVERGED_FNORM_RELATIVE iterations 2\n",
      "res: 32, fwhm: 0.07, relative error: -56.144033364183024\n",
      "0.09\n",
      "0.03821656050955414\n",
      "  0 SNES Function norm 0.00865169 \n",
      "  1 SNES Function norm 0.000207544 \n",
      "  2 SNES Function norm 4.865e-11 \n",
      "Nonlinear Stokes_23_ solve converged due to CONVERGED_FNORM_RELATIVE iterations 2\n",
      "res: 32, fwhm: 0.09, relative error: -64.16976437545024\n",
      "0.1\n",
      "0.042462845010615716\n",
      "  0 SNES Function norm 0.00865169 \n",
      "  1 SNES Function norm 0.000216872 \n",
      "  2 SNES Function norm 3.361e-11 \n",
      "Nonlinear Stokes_24_ solve converged due to CONVERGED_FNORM_RELATIVE iterations 2\n",
      "res: 32, fwhm: 0.1, relative error: -67.7622645071145\n"
     ]
    }
   ],
   "source": [
    "\n",
    "fwhm_arr = np.array([0.001, 0.003, 0.005, 0.007, 0.009, 0.01, 0.03, 0.05, 0.07, 0.09, 0.1])\n",
    "res_arr = np.array([16, 32, 48, 64, 80, 96, 112, 128, 256])\n",
    "#penalties = np.arange(2.9e10, 2.95e10+1e6, 0.01e10)\n",
    "\n",
    "all_err = np.zeros([fwhm_arr.shape[0], res_arr.shape[0]])\n",
    "\n",
    "for i, res in enumerate(res_arr): # loop through all the resolutions\n",
    "    \n",
    "    rel_error = []\n",
    "\n",
    "    FSS = solCx_model(n_els = res, penalty = 0, weak_BC = False, qdeg = qdeg, hwNum = None)\n",
    "    \n",
    "    for fwhm in fwhm_arr: # loop through all the fwhm \n",
    "\n",
    "        vrms = solCx_model(n_els = res, penalty = ptf, weak_BC = True, qdeg = qdeg, hwNum = fwhm)\n",
    "\n",
    "        relative_error = ((vrms - FSS)/FSS) * 100\n",
    "        rel_error.append(relative_error)\n",
    "        print(f\"res: {res}, fwhm: {fwhm}, relative error: {relative_error}\")\n",
    "\n",
    "    all_err[:, i] = rel_error\n",
    "    \n",
    "# # ### closest value when n_els = 16\n",
    "# # penalty = 2.91e10, ~0.0071% difference in v_rms"
   ]
  },
  {
   "cell_type": "code",
   "execution_count": 21,
   "id": "11f76a03",
   "metadata": {},
   "outputs": [
    {
     "data": {
      "image/png": "[encoded data removed]",
      "text/plain": [
       "<Figure size 640x480 with 1 Axes>"
      ]
     },
     "metadata": {},
     "output_type": "display_data"
    }
   ],
   "source": [
    "import matplotlib.pyplot as plt\n",
    "\n",
    "fig, ax = plt.subplots(dpi = 100)\n",
    "ax.plot(fwhm_arr, np.abs(all_err[:, 1]), \"-o\")\n",
    "ax.set_yscale(\"log\")"
   ]
  },
  {
   "cell_type": "code",
   "execution_count": 25,
   "id": "d3f1169b",
   "metadata": {},
   "outputs": [],
   "source": [
    "with open(outdir + f\"/qdeg{qdeg}_ptf{ptf:.1e}.pkl\", \"wb\") as f:\n",
    "    pickle.dump([all_err], f)"
   ]
  },
  {
   "cell_type": "code",
   "execution_count": 26,
   "id": "4cdd0fd8",
   "metadata": {},
   "outputs": [],
   "source": [
    "with open(outdir + f\"/qdeg{qdeg}_ptf{ptf:.1e}.pkl\", \"rb\") as f:\n",
    "        data = pickle.load(f)"
   ]
  },
  {
   "cell_type": "code",
   "execution_count": 30,
   "id": "81119194",
   "metadata": {},
   "outputs": [
    {
     "data": {
      "text/plain": [
       "(11, 9)"
      ]
     },
     "execution_count": 30,
     "metadata": {},
     "output_type": "execute_result"
    }
   ],
   "source": [
    "data[0].shape"
   ]
  },
  {
   "cell_type": "code",
   "execution_count": 45,
   "id": "a7399b37",
   "metadata": {},
   "outputs": [
    {
     "data": {
      "text/plain": [
       "[<matplotlib.lines.Line2D at 0x298bf4c50>]"
      ]
     },
     "execution_count": 45,
     "metadata": {},
     "output_type": "execute_result"
    },
    {
     "data": {
      "image/png": "[encoded data removed]",
      "text/plain": [
       "<Figure size 640x480 with 1 Axes>"
      ]
     },
     "metadata": {},
     "output_type": "display_data"
    }
   ],
   "source": [
    "# fig, ax = plt.subplots(dpi = 100)\n",
    "# #ax.plot(penalties_og, np.abs(rel_error_og), \"o-\")\n",
    "# ax.plot(penalties_og, np.abs(rel_error_og) - np.abs(rel_error), \"o-\")\n",
    "# #ax.set_xscale(\"log\")"
   ]
  },
  {
   "cell_type": "code",
   "execution_count": 8,
   "id": "7e7286b2",
   "metadata": {},
   "outputs": [
    {
     "name": "stdout",
     "output_type": "stream",
     "text": [
      "  0 SNES Function norm 0.00865169 \n",
      "  1 SNES Function norm 8.27981e-06 \n",
      "  2 SNES Function norm 1.736e-10 \n",
      "Nonlinear Stokes_8_ solve converged due to CONVERGED_FNORM_RELATIVE iterations 2\n",
      "  0 SNES Function norm 0.00865169 \n",
      "  1 SNES Function norm 7.45223e-08 \n",
      "Nonlinear Stokes_9_ solve converged due to CONVERGED_FNORM_RELATIVE iterations 1\n"
     ]
    },
    {
     "data": {
      "text/plain": [
       "-0.03973991125093271"
      ]
     },
     "execution_count": 8,
     "metadata": {},
     "output_type": "execute_result"
    }
   ],
   "source": [
    "# FSS_32 = solCx_model(n_els=32, weak_BC=False, penalty = 0, viscosity=[1,1e3])\n",
    "\n",
    "# # penalties = np.arange(4.5e7, 5e7+1e5, 1e6)\n",
    "\n",
    "\n",
    "# # penalty_vrms_32 = []\n",
    "\n",
    "# # for penalty in penalties:\n",
    "# #     penalty_vrms_32.append( solCx_model(n_els=32, weak_BC=True, penalty=penalty) )\n",
    "    \n",
    "# # # ### closest value when n_els = 32   \n",
    "# # # penalty = 4.6e7, ~0.007% difference in v_rms\n",
    "\n",
    "# penalty = 4.6e7\n",
    "\n",
    "# FSW_32 = solCx_model(n_els=32, weak_BC=True, penalty=penalty, viscosity=[1,1e3])\n",
    "\n",
    "# relative_error = ((FSW_32 - FSS_32) / FSS_32) * 100\n",
    "# relative_error\n",
    "\n",
    "# # for vrms in penalty_vrms_32:\n",
    "# #     relative_error = ((vrms - FSS_32) / FSS_32) * 100\n",
    "# #     print(relative_error)"
   ]
  },
  {
   "cell_type": "code",
   "execution_count": 9,
   "id": "21c908a3",
   "metadata": {},
   "outputs": [
    {
     "name": "stdout",
     "output_type": "stream",
     "text": [
      "  0 SNES Function norm 0.00433328 \n",
      "  1 SNES Function norm 0.000329438 \n",
      "  2 SNES Function norm 4.97114e-09 \n",
      "Nonlinear Stokes_10_ solve converged due to CONVERGED_FNORM_RELATIVE iterations 2\n",
      "  0 SNES Function norm 0.00433328 \n",
      "  1 SNES Function norm 5.68574e-05 \n",
      "  2 SNES Function norm < 1.e-11\n",
      "Nonlinear Stokes_11_ solve converged due to CONVERGED_FNORM_RELATIVE iterations 2\n",
      "  0 SNES Function norm 0.00433328 \n",
      "  1 SNES Function norm 5.77603e-05 \n",
      "  2 SNES Function norm < 1.e-11\n",
      "Nonlinear Stokes_12_ solve converged due to CONVERGED_FNORM_RELATIVE iterations 2\n",
      "  0 SNES Function norm 0.00433328 \n",
      "  1 SNES Function norm 5.84273e-05 \n",
      "  2 SNES Function norm 6.182e-11 \n",
      "Nonlinear Stokes_13_ solve converged due to CONVERGED_FNORM_RELATIVE iterations 2\n",
      "  0 SNES Function norm 0.00433328 \n",
      "  1 SNES Function norm 6.23952e-05 \n",
      "  2 SNES Function norm 3.799e-11 \n",
      "Nonlinear Stokes_14_ solve converged due to CONVERGED_FNORM_RELATIVE iterations 2\n",
      "  0 SNES Function norm 0.00433328 \n",
      "  1 SNES Function norm 2.94957e-05 \n",
      "  2 SNES Function norm 3.577e-11 \n",
      "Nonlinear Stokes_15_ solve converged due to CONVERGED_FNORM_RELATIVE iterations 2\n",
      "  0 SNES Function norm 0.00433328 \n",
      "  1 SNES Function norm 2.77093e-05 \n",
      "  2 SNES Function norm 3.060e-11 \n",
      "Nonlinear Stokes_16_ solve converged due to CONVERGED_FNORM_RELATIVE iterations 2\n",
      "0.14733789834897823\n",
      "0.09861772685448901\n",
      "0.05036482929619472\n",
      "0.0025567886362574985\n",
      "-0.04482702489437973\n",
      "-0.09180574346539841\n"
     ]
    }
   ],
   "source": [
    "# FSS_64 = solCx_model(n_els=64, weak_BC=False, penalty = 0)\n",
    "\n",
    "# penalties = np.arange(5e6, 5.5e6+1e5, 1e5)\n",
    "\n",
    "\n",
    "# penalty_vrms_64 = []\n",
    "\n",
    "# for penalty in penalties:\n",
    "#     penalty_vrms_64.append( solCx_model(n_els=64, weak_BC=True, penalty=penalty) )\n",
    "    \n",
    "# ### closest value when n_els = 64    \n",
    "# ### penalty = 5.3e6, ~0.0012% difference in v_rms\n",
    "\n",
    "\n",
    "# for vrms in penalty_vrms_64:\n",
    "#     relative_error = ((vrms - FSS_64) / FSS_64) * 100\n",
    "#     print(relative_error)"
   ]
  },
  {
   "cell_type": "code",
   "execution_count": null,
   "id": "8cbd3b46",
   "metadata": {},
   "outputs": [],
   "source": [
    "# penalties"
   ]
  },
  {
   "cell_type": "code",
   "execution_count": null,
   "id": "0042b743",
   "metadata": {},
   "outputs": [],
   "source": [
    "# # FSS_96 = solCx_model(n_els=96, weak_BC=False, penalty = 0)\n",
    "\n",
    "# penalties = np.arange(4.93e6, 4.98e6, 1e4)\n",
    "\n",
    "\n",
    "# penalty_vrms_96 = []\n",
    "\n",
    "# for penalty in penalties:\n",
    "#     penalty_vrms_96.append( solCx_model(n_els=96, weak_BC=True, penalty=penalty) )\n",
    "    \n",
    "# ### closest value when n_els = 96   \n",
    "# ### penalty = 4.95e6, ~5.952858458274693e-05% difference in v_rms\n",
    "\n",
    "\n",
    "# for vrms in penalty_vrms_96:\n",
    "#     relative_error = ((vrms - FSS_96) / FSS_96) * 100\n",
    "#     print(relative_error)"
   ]
  },
  {
   "cell_type": "code",
   "execution_count": null,
   "id": "2c6742f1",
   "metadata": {},
   "outputs": [],
   "source": [
    "# n_els= 96\n",
    "\n",
    "# mesh = uw.meshing.StructuredQuadBox(\n",
    "#                                         minCoords=(0.0, 0.0), maxCoords=(1.0, 1.0),elementRes=(n_els, n_els)\n",
    "#                                         )\n",
    "\n",
    "# mesh.get_min_radius()"
   ]
  },
  {
   "cell_type": "code",
   "execution_count": null,
   "id": "a1dbfc0b",
   "metadata": {},
   "outputs": [],
   "source": [
    "# import numpy as np\n",
    "\n",
    "# penalties = np.array([2.91e10, 4.6e7, 5.3e6, 4.95e6 ])\n",
    "# elementRes = np.array([16, 32, 64, 96])\n",
    "# mesh_min_res = np.array([0.0312499999997905, 0.015624999999893197, 0.007812499999946043, 0.005208333333297177])\n",
    "\n",
    "# import matplotlib.pyplot as plt\n",
    "\n",
    "# plt.plot(elementRes, mesh_min_res, ls='-.', marker='o')\n",
    "# plt.xlabel('element res')\n",
    "# plt.show()\n",
    "\n",
    "\n",
    "# # plt.plot(elementRes, np.log10(penalties), ls='-.', marker='o')\n",
    "# # plt.xlabel('')\n",
    "# # plt.show()\n",
    "\n",
    "\n",
    "# plt.plot(mesh_min_res, np.log10(penalties), ls='-', marker='o')\n",
    "# plt.xlabel('mesh min res')\n",
    "# plt.ylabel('log$_{10}$ penalty')\n",
    "\n",
    "# penalty = (mesh_min_res**10)+6\n",
    "\n",
    "# plt.plot(mesh_min_res, penalty, ls=':')\n",
    "\n",
    "\n",
    "# plt.show()\n",
    "\n",
    "\n"
   ]
  }
 ],
 "metadata": {
  "jupytext": {
   "custom_cell_magics": "kql"
  },
  "kernelspec": {
   "display_name": "Python 3 (ipykernel)",
   "language": "python",
   "name": "python3"
  },
  "language_info": {
   "codemirror_mode": {
    "name": "ipython",
    "version": 3
   },
   "file_extension": ".py",
   "mimetype": "text/x-python",
   "name": "python",
   "nbconvert_exporter": "python",
   "pygments_lexer": "ipython3",
   "version": "3.11.4"
  }
 },
 "nbformat": 4,
 "nbformat_minor": 5
}
